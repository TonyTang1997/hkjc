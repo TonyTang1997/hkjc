{
 "cells": [
  {
   "cell_type": "code",
   "execution_count": 176,
   "metadata": {},
   "outputs": [],
   "source": [
    "import urllib.request, json \n",
    "import random\n",
    "#import pymongo\n",
    "import pandas as pd\n",
    "#from pymongo import MongoClient\n",
    "import pandas as pd\n",
    "from datetime import datetime\n",
    "\n",
    "from requests_html import HTMLSession, AsyncHTMLSession"
   ]
  },
  {
   "cell_type": "code",
   "execution_count": 177,
   "metadata": {},
   "outputs": [],
   "source": [
    "today = (datetime.now()).strftime('%Y-%m-%d')"
   ]
  },
  {
   "cell_type": "code",
   "execution_count": 178,
   "metadata": {},
   "outputs": [],
   "source": [
    "filter_cols = ['race_date', 'race_no', 'race_time','horse_no', 'horse_name', 'real_horse_id','type']"
   ]
  },
  {
   "cell_type": "code",
   "execution_count": 179,
   "metadata": {},
   "outputs": [],
   "source": [
    "race_date = today\n",
    "srace_no = 1\n",
    "erace_no = 9\n",
    "url = \"https://bet.hkjc.com/racing/getJSON.aspx/?type=winplaodds&date={}&venue=HV&start={}&end={}\".format(\"2020-06-10\",srace_no,erace_no)\n",
    "\n",
    "session = HTMLSession()\n",
    "r = session.get(url)\n",
    "data = json.loads(r.html.html)\n",
    "\n",
    "time, odds = data['OUT'].split('@@@')[0], data['OUT'].split('@@@')[1:]"
   ]
  },
  {
   "cell_type": "code",
   "execution_count": 180,
   "metadata": {},
   "outputs": [
    {
     "data": {
      "text/plain": [
       "'211902'"
      ]
     },
     "execution_count": 180,
     "metadata": {},
     "output_type": "execute_result"
    }
   ],
   "source": [
    "time"
   ]
  },
  {
   "cell_type": "code",
   "execution_count": 181,
   "metadata": {},
   "outputs": [
    {
     "data": {
      "text/plain": [
       "'WIN;1=18=0;2=9.8=0;3=4.4=1;4=15=0;5=12=0;6=6.8=0;7=10=0;8=19=0;9=23=0;10=6.0=0;11=7.6=0;12=20=0#PLA;1=6.0=0;2=2.7=0;3=2.0=0;4=6.0=0;5=5.8=0;6=3.0=0;7=3.7=0;8=4.4=0;9=4.2=0;10=1.7=1;11=2.3=0;12=5.5=0'"
      ]
     },
     "execution_count": 181,
     "metadata": {},
     "output_type": "execute_result"
    }
   ],
   "source": [
    "odds[1]"
   ]
  },
  {
   "cell_type": "code",
   "execution_count": null,
   "metadata": {},
   "outputs": [],
   "source": []
  },
  {
   "cell_type": "code",
   "execution_count": null,
   "metadata": {},
   "outputs": [],
   "source": []
  },
  {
   "cell_type": "code",
   "execution_count": 201,
   "metadata": {},
   "outputs": [
    {
     "name": "stdout",
     "output_type": "stream",
     "text": [
      "212403\n"
     ]
    }
   ],
   "source": [
    "race_date = today\n",
    "srace_no = 1\n",
    "erace_no = 9\n",
    "url = \"https://bet.hkjc.com/racing/getJSON.aspx/?type=winplaodds&date={}&venue=HV&start={}&end={}\".format(\"2020-06-10\",srace_no,erace_no)\n",
    "\n",
    "session = HTMLSession()\n",
    "r = session.get(url)\n",
    "data = json.loads(r.html.html)\n",
    "\n",
    "time, odds = data['OUT'].split('@@@')[0], data['OUT'].split('@@@')[1:]\n",
    "\n",
    "print(time)"
   ]
  },
  {
   "cell_type": "code",
   "execution_count": null,
   "metadata": {},
   "outputs": [],
   "source": []
  },
  {
   "cell_type": "code",
   "execution_count": null,
   "metadata": {},
   "outputs": [],
   "source": []
  },
  {
   "cell_type": "code",
   "execution_count": 167,
   "metadata": {},
   "outputs": [],
   "source": [
    "race_date = today\n",
    "race_no = 9\n",
    "\n",
    "url = \"http://bet.hkjc.com/racing/getJSON.aspx/?type=win&date={}&venue=ST&raceno={}\".format(race_date,race_no)\n",
    "\n",
    "session = HTMLSession()\n",
    "r = session.get(url)\n",
    "data = json.loads(r.html.html)\n"
   ]
  },
  {
   "cell_type": "code",
   "execution_count": 168,
   "metadata": {},
   "outputs": [
    {
     "data": {
      "text/plain": [
       "{'OUT': ''}"
      ]
     },
     "execution_count": 168,
     "metadata": {},
     "output_type": "execute_result"
    }
   ],
   "source": [
    "data"
   ]
  },
  {
   "cell_type": "code",
   "execution_count": null,
   "metadata": {},
   "outputs": [],
   "source": []
  },
  {
   "cell_type": "code",
   "execution_count": null,
   "metadata": {},
   "outputs": [],
   "source": []
  },
  {
   "cell_type": "code",
   "execution_count": null,
   "metadata": {},
   "outputs": [],
   "source": []
  },
  {
   "cell_type": "code",
   "execution_count": 202,
   "metadata": {},
   "outputs": [],
   "source": [
    "race_date = today\n",
    "srace_no = 1\n",
    "erace_no = 9\n",
    "url = \"https://bet.hkjc.com/racing/getJSON.aspx/?type=winplaodds&date={}&venue=ST&start={}&end={}\".format(race_date,srace_no,erace_no)\n",
    "\n",
    "session = HTMLSession()\n",
    "r = session.get(url)\n",
    "data = json.loads(r.html.html)\n",
    "\n",
    "time, odds = data['OUT'].split('@@@')[0], data['OUT'].split('@@@')[1:]\n",
    "\n",
    "#TODO handle hourse withdrawal\n",
    "\n",
    "for i, odd in enumerate(odds):\n",
    "    wo, po = odd.split('WIN;')[1].split('#PLA;')\n",
    "    wo = list(map(lambda x: x.split('=')[1], wo.split(';')))\n",
    "    po = list(map(lambda x: x.split('=')[1], po.split(';')))\n",
    "    #cond = (df['race_no'] == i+1) & (df['type'] == 'starter')\n",
    "    #df.loc[cond, 'tmp_win_odds'] = wo\n",
    "    #df.loc[cond, 'tmp_place_odds'] = po\n",
    "    #df.loc[cond, 'odds_updated_at'] = datetime.now()\n",
    "    #df.loc[cond, 'odds_srv_updated_at'] = time #TODO change to dt or timestamp\n",
    "    #logging.info('race no: {} / win_odds: {}'.format(i+1, wo))\n",
    "\n",
    "# logging.info('race no: {} / win_odds: {}'.format(race_no, wo))\n",
    "\n",
    "# df_tmp['tmp_win_odds'] = wo\n",
    "# df_tmp['tmp_place_odds'] = po\n",
    "# df_tmp['current_time'] = datetime.now()\n",
    "#df.tmp_win_odds"
   ]
  },
  {
   "cell_type": "code",
   "execution_count": 203,
   "metadata": {},
   "outputs": [],
   "source": [
    "next_raceday = \"2020-06-10\"\n",
    "next_race_venue = \"HV\"\n",
    "race_no = 1"
   ]
  },
  {
   "cell_type": "code",
   "execution_count": 204,
   "metadata": {},
   "outputs": [
    {
     "data": {
      "text/plain": [
       "'https://bet.hkjc.com/racing/getJSON.aspx/?type=winplaodds&date=2020-06-09&venue=ST&start=1&end=9'"
      ]
     },
     "execution_count": 204,
     "metadata": {},
     "output_type": "execute_result"
    }
   ],
   "source": [
    "url"
   ]
  },
  {
   "cell_type": "code",
   "execution_count": 205,
   "metadata": {},
   "outputs": [],
   "source": [
    "url = \"http://bet.hkjc.com/racing/getJSON.aspx/?type=pooltot&date={}&venue={}&raceno={}\".format(next_raceday,next_race_venue,race_no)\n",
    "\n",
    "session = HTMLSession()\n",
    "r = session.get(url)\n",
    "data = json.loads(r.html.html)\n"
   ]
  },
  {
   "cell_type": "code",
   "execution_count": 206,
   "metadata": {},
   "outputs": [
    {
     "data": {
      "text/plain": [
       "{'inv': [{'pool': 'WIN', 'value': '489481', 'pid': '62131'},\n",
       "  {'pool': 'PLA', 'value': '307333'},\n",
       "  {'pool': 'QIN', 'value': '460541'},\n",
       "  {'pool': 'QPL', 'value': '639817'},\n",
       "  {'pool': 'CWA', 'value': '489481', 'pid': '62131'},\n",
       "  {'pool': 'TCE', 'value': '46018'},\n",
       "  {'pool': 'TRI', 'value': '55183'},\n",
       "  {'pool': 'F-F', 'value': '89159', 'pid': '62113'},\n",
       "  {'pool': 'QTT', 'value': '89159', 'pid': '62113'},\n",
       "  {'pool': 'DBL', 'value': '80290'}],\n",
       " 'totalInv': '9045478',\n",
       " 'updateTime': '212321'}"
      ]
     },
     "execution_count": 206,
     "metadata": {},
     "output_type": "execute_result"
    }
   ],
   "source": [
    "data"
   ]
  },
  {
   "cell_type": "code",
   "execution_count": null,
   "metadata": {},
   "outputs": [],
   "source": []
  },
  {
   "cell_type": "code",
   "execution_count": null,
   "metadata": {},
   "outputs": [],
   "source": []
  },
  {
   "cell_type": "code",
   "execution_count": 233,
   "metadata": {},
   "outputs": [
    {
     "data": {
      "text/plain": [
       "{'inv': [{'pool': 'WIN', 'value': '496380', 'pid': '62131'},\n",
       "  {'pool': 'PLA', 'value': '311649'},\n",
       "  {'pool': 'QIN', 'value': '465986'},\n",
       "  {'pool': 'QPL', 'value': '648760'},\n",
       "  {'pool': 'CWA', 'value': '496380', 'pid': '62131'},\n",
       "  {'pool': 'TCE', 'value': '46812'},\n",
       "  {'pool': 'TRI', 'value': '56143'},\n",
       "  {'pool': 'F-F', 'value': '91371', 'pid': '62113'},\n",
       "  {'pool': 'QTT', 'value': '91371', 'pid': '62113'},\n",
       "  {'pool': 'DBL', 'value': '81250'}],\n",
       " 'totalInv': '9079647',\n",
       " 'updateTime': '212819'}"
      ]
     },
     "execution_count": 233,
     "metadata": {},
     "output_type": "execute_result"
    }
   ],
   "source": [
    "url = \"http://bet.hkjc.com/racing/getJSON.aspx/?type=pooltot&date={}&venue={}&raceno={}\".format(next_raceday,next_race_venue,race_no)\n",
    "\n",
    "session = HTMLSession()\n",
    "r = session.get(url)\n",
    "data = json.loads(r.html.html)\n",
    "data"
   ]
  },
  {
   "cell_type": "code",
   "execution_count": null,
   "metadata": {},
   "outputs": [],
   "source": []
  },
  {
   "cell_type": "code",
   "execution_count": null,
   "metadata": {},
   "outputs": [],
   "source": []
  },
  {
   "cell_type": "code",
   "execution_count": null,
   "metadata": {},
   "outputs": [],
   "source": []
  }
 ],
 "metadata": {
  "kernelspec": {
   "display_name": "Python 3",
   "language": "python",
   "name": "python3"
  },
  "language_info": {
   "codemirror_mode": {
    "name": "ipython",
    "version": 3
   },
   "file_extension": ".py",
   "mimetype": "text/x-python",
   "name": "python",
   "nbconvert_exporter": "python",
   "pygments_lexer": "ipython3",
   "version": "3.7.6"
  }
 },
 "nbformat": 4,
 "nbformat_minor": 4
}
