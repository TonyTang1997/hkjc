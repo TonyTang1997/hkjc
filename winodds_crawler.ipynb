{
 "cells": [
  {
   "cell_type": "code",
   "execution_count": 12,
   "metadata": {},
   "outputs": [],
   "source": [
    "import urllib.request, json \n",
    "import random\n",
    "#import pymongo\n",
    "import pandas as pd\n",
    "#from pymongo import MongoClient\n",
    "import pandas as pd\n",
    "from datetime import datetime\n",
    "\n",
    "from requests_html import HTMLSession, AsyncHTMLSession"
   ]
  },
  {
   "cell_type": "code",
   "execution_count": 177,
   "metadata": {},
   "outputs": [],
   "source": [
    "today = (datetime.now()).strftime('%Y-%m-%d')"
   ]
  },
  {
   "cell_type": "code",
   "execution_count": 178,
   "metadata": {},
   "outputs": [],
   "source": [
    "filter_cols = ['race_date', 'race_no', 'race_time','horse_no', 'horse_name', 'real_horse_id','type']"
   ]
  },
  {
   "cell_type": "code",
   "execution_count": 29,
   "metadata": {},
   "outputs": [],
   "source": [
    "srace_no = 1\n",
    "erace_no = 9\n",
    "url = \"http://bet.hkjc.com/racing/getJSON.aspx/?type=pooltot&date=2020-06-14&venue=ST&raceno=2\"\n",
    "\n",
    "session = HTMLSession()\n",
    "r = session.get(url)\n",
    "data = json.loads(r.html.html)\n"
   ]
  },
  {
   "cell_type": "code",
   "execution_count": 30,
   "metadata": {},
   "outputs": [
    {
     "data": {
      "text/plain": [
       "{'inv': [{'pool': 'WIN', 'value': '2793152', 'pid': '62261'},\n",
       "  {'pool': 'PLA', 'value': '1988579'},\n",
       "  {'pool': 'QIN', 'value': '3704606'},\n",
       "  {'pool': 'QPL', 'value': '4358152'},\n",
       "  {'pool': 'CWA', 'value': '2793152', 'pid': '62261'},\n",
       "  {'pool': 'TCE', 'value': '303552'},\n",
       "  {'pool': 'TRI', 'value': '366324'},\n",
       "  {'pool': 'F-F', 'value': '547989', 'pid': '62241'},\n",
       "  {'pool': 'QTT', 'value': '547989', 'pid': '62241'},\n",
       "  {'pool': 'DBL', 'value': '430500'}],\n",
       " 'totalInv': '63184376',\n",
       " 'updateTime': '112355'}"
      ]
     },
     "execution_count": 30,
     "metadata": {},
     "output_type": "execute_result"
    }
   ],
   "source": [
    "data"
   ]
  },
  {
   "cell_type": "code",
   "execution_count": 31,
   "metadata": {},
   "outputs": [],
   "source": [
    "investment_value_dict = {x['pool'] : x['value'] for x in data['inv']}"
   ]
  },
  {
   "cell_type": "code",
   "execution_count": 34,
   "metadata": {},
   "outputs": [
    {
     "data": {
      "text/plain": [
       "{'WIN': '2793152',\n",
       " 'PLA': '1988579',\n",
       " 'QIN': '3704606',\n",
       " 'QPL': '4358152',\n",
       " 'CWA': '2793152',\n",
       " 'TCE': '303552',\n",
       " 'TRI': '366324',\n",
       " 'F-F': '547989',\n",
       " 'QTT': '547989',\n",
       " 'DBL': '430500'}"
      ]
     },
     "execution_count": 34,
     "metadata": {},
     "output_type": "execute_result"
    }
   ],
   "source": [
    "investment_value_dict"
   ]
  },
  {
   "cell_type": "code",
   "execution_count": null,
   "metadata": {},
   "outputs": [],
   "source": []
  },
  {
   "cell_type": "code",
   "execution_count": null,
   "metadata": {},
   "outputs": [],
   "source": []
  },
  {
   "cell_type": "code",
   "execution_count": null,
   "metadata": {},
   "outputs": [],
   "source": []
  },
  {
   "cell_type": "code",
   "execution_count": null,
   "metadata": {},
   "outputs": [],
   "source": []
  },
  {
   "cell_type": "code",
   "execution_count": null,
   "metadata": {},
   "outputs": [],
   "source": []
  },
  {
   "cell_type": "code",
   "execution_count": 111,
   "metadata": {},
   "outputs": [
    {
     "name": "stdout",
     "output_type": "stream",
     "text": [
      "121431\n"
     ]
    }
   ],
   "source": [
    "srace_no = 1\n",
    "erace_no = 9\n",
    "url = \"https://bet.hkjc.com/racing/getJSON.aspx/?type=winplaodds&date={}&venue=ST&start={}&end={}\".format(\"2020-06-14\",srace_no,erace_no)\n",
    "\n",
    "session = HTMLSession()\n",
    "r = session.get(url)\n",
    "data = json.loads(r.html.html)\n",
    "\n",
    "time, odds = data['OUT'].split('@@@')[0], data['OUT'].split('@@@')[1:]\n",
    "\n",
    "print(time)"
   ]
  },
  {
   "cell_type": "code",
   "execution_count": null,
   "metadata": {},
   "outputs": [],
   "source": []
  },
  {
   "cell_type": "code",
   "execution_count": 120,
   "metadata": {},
   "outputs": [
    {
     "name": "stdout",
     "output_type": "stream",
     "text": [
      "121931\n"
     ]
    }
   ],
   "source": [
    "srace_no = 1\n",
    "erace_no = 9\n",
    "url = \"https://bet.hkjc.com/racing/getJSON.aspx/?type=winplaodds&date={}&venue=ST&start={}&end={}\".format(\"2020-06-14\",srace_no,erace_no)\n",
    "\n",
    "session = HTMLSession()\n",
    "r = session.get(url)\n",
    "data = json.loads(r.html.html)\n",
    "\n",
    "time, odds = data['OUT'].split('@@@')[0], data['OUT'].split('@@@')[1:]\n",
    "\n",
    "print(time)"
   ]
  },
  {
   "cell_type": "code",
   "execution_count": 121,
   "metadata": {},
   "outputs": [
    {
     "data": {
      "text/plain": [
       "['WIN;1=1.4=1;2=21=0;3=5.1=0;4=5.9=0;5=12=0#PLA;1=1.0=1;2=5.1=0;3=2.1=0;4=1.9=0;5=3.2=0',\n",
       " 'WIN;1=7.7=0;2=10=0;3=18=0;4=5.8=0;5=12=0;6=14=0;7=6.0=0;8=10=0;9=117=0;10=49=0;11=5.4=1;12=18=0;13=18=0;14=33=0#PLA;1=2.9=0;2=2.9=0;3=5.9=0;4=2.0=1;5=3.5=0;6=3.9=0;7=2.6=0;8=3.6=0;9=27=0;10=11=0;11=2.7=0;12=4.0=0;13=4.5=0;14=7.7=0',\n",
       " 'WIN;1=2.1=1;2=5.5=0;3=20=0;4=34=0;5=8.3=0;6=9.5=0;7=40=0;8=18=0;9=22=0;10=23=0;11=73=0;12=38=0;13=22=0;14=70=0#PLA;1=1.2=1;2=1.7=0;3=4.5=0;4=9.9=0;5=2.2=0;6=2.8=0;7=10=0;8=4.3=0;9=5.7=0;10=7.0=0;11=12=0;12=12=0;13=4.8=0;14=12=0',\n",
       " 'WIN;1=7.3=0;2=8.5=0;3=3.7=1;4=8.5=0;5=3.9=0;6=7.2=0;7=17=0;8=8.2=0#PLA;1=2.0=0;2=2.2=0;3=1.6=0;4=3.1=0;5=1.4=1;6=2.4=0;7=4.7=0;8=2.4=0',\n",
       " 'WIN;1=43=0;2=10=0;3=14=0;4=25=0;5=5.6=0;6=58=0;7=5.2=0;8=6.5=0;9=10=0;10=5.1=1;11=56=0;12=13=0;13=27=0;14=34=0#PLA;1=9.3=0;2=3.4=0;3=5.2=0;4=6.6=0;5=2.1=0;6=10=0;7=2.1=0;8=2.5=0;9=3.0=0;10=1.9=1;11=10=0;12=3.8=0;13=7.0=0;14=8.0=0',\n",
       " 'WIN;1=11=0;2=4.5=0;3=3.5=1;4=10=0;5=39=0;6=14=0;7=8.7=0;8=10=0;9=12=0;10=13=0;11=28=0;12=35=0#PLA;1=4.2=0;2=1.8=0;3=1.5=1;4=3.0=0;5=7.2=0;6=4.1=0;7=2.7=0;8=3.0=0;9=4.1=0;10=3.7=0;11=6.0=0;12=7.9=0',\n",
       " 'WIN;1=6.9=0;2=41=0;3=8.8=0;4=7.3=0;5=35=0;6=2.7=1;7=11=0;8=7.6=0;9=7.4=0;10=21=0#PLA;1=2.5=0;2=9.5=0;3=3.4=0;4=2.4=0;5=7.5=0;6=1.3=1;7=3.9=0;8=2.2=0;9=1.5=0;10=5.3=0',\n",
       " 'WIN;1=5.2=0;2=3.5=1;3=18=0;4=8.3=0;5=6.8=0;6=23=0;7=13=0;8=11=0;9=4.7=0#PLA;1=2.2=0;2=1.6=1;3=4.3=0;4=2.5=0;5=1.6=0;6=4.9=0;7=4.2=0;8=3.2=0;9=1.7=0',\n",
       " 'WIN;1=13=0;2=12=0;3=2.5=1;4=25=0;5=20=0;6=6.2=0;7=11=0;8=65=0;9=16=0;10=20=0;11=9.6=0;12=16=0;13=30=0;14=72=0#PLA;1=4.0=0;2=3.2=0;3=1.2=1;4=6.0=0;5=5.6=0;6=2.8=0;7=3.5=0;8=13=0;9=4.0=0;10=5.9=0;11=2.6=0;12=4.9=0;13=6.6=0;14=13=0']"
      ]
     },
     "execution_count": 121,
     "metadata": {},
     "output_type": "execute_result"
    }
   ],
   "source": [
    "odds"
   ]
  },
  {
   "cell_type": "code",
   "execution_count": null,
   "metadata": {},
   "outputs": [],
   "source": []
  },
  {
   "cell_type": "code",
   "execution_count": null,
   "metadata": {},
   "outputs": [],
   "source": []
  },
  {
   "cell_type": "code",
   "execution_count": 167,
   "metadata": {},
   "outputs": [],
   "source": [
    "race_date = today\n",
    "race_no = 9\n",
    "\n",
    "url = \"http://bet.hkjc.com/racing/getJSON.aspx/?type=win&date={}&venue=ST&raceno={}\".format(race_date,race_no)\n",
    "\n",
    "session = HTMLSession()\n",
    "r = session.get(url)\n",
    "data = json.loads(r.html.html)\n"
   ]
  },
  {
   "cell_type": "code",
   "execution_count": 168,
   "metadata": {},
   "outputs": [
    {
     "data": {
      "text/plain": [
       "{'OUT': ''}"
      ]
     },
     "execution_count": 168,
     "metadata": {},
     "output_type": "execute_result"
    }
   ],
   "source": [
    "data"
   ]
  },
  {
   "cell_type": "code",
   "execution_count": null,
   "metadata": {},
   "outputs": [],
   "source": []
  },
  {
   "cell_type": "code",
   "execution_count": null,
   "metadata": {},
   "outputs": [],
   "source": []
  },
  {
   "cell_type": "code",
   "execution_count": null,
   "metadata": {},
   "outputs": [],
   "source": []
  },
  {
   "cell_type": "code",
   "execution_count": 202,
   "metadata": {},
   "outputs": [],
   "source": [
    "race_date = today\n",
    "srace_no = 1\n",
    "erace_no = 9\n",
    "url = \"https://bet.hkjc.com/racing/getJSON.aspx/?type=winplaodds&date={}&venue=ST&start={}&end={}\".format(race_date,srace_no,erace_no)\n",
    "\n",
    "session = HTMLSession()\n",
    "r = session.get(url)\n",
    "data = json.loads(r.html.html)\n",
    "\n",
    "time, odds = data['OUT'].split('@@@')[0], data['OUT'].split('@@@')[1:]\n",
    "\n",
    "#TODO handle hourse withdrawal\n",
    "\n",
    "for i, odd in enumerate(odds):\n",
    "    wo, po = odd.split('WIN;')[1].split('#PLA;')\n",
    "    wo = list(map(lambda x: x.split('=')[1], wo.split(';')))\n",
    "    po = list(map(lambda x: x.split('=')[1], po.split(';')))\n",
    "    #cond = (df['race_no'] == i+1) & (df['type'] == 'starter')\n",
    "    #df.loc[cond, 'tmp_win_odds'] = wo\n",
    "    #df.loc[cond, 'tmp_place_odds'] = po\n",
    "    #df.loc[cond, 'odds_updated_at'] = datetime.now()\n",
    "    #df.loc[cond, 'odds_srv_updated_at'] = time #TODO change to dt or timestamp\n",
    "    #logging.info('race no: {} / win_odds: {}'.format(i+1, wo))\n",
    "\n",
    "# logging.info('race no: {} / win_odds: {}'.format(race_no, wo))\n",
    "\n",
    "# df_tmp['tmp_win_odds'] = wo\n",
    "# df_tmp['tmp_place_odds'] = po\n",
    "# df_tmp['current_time'] = datetime.now()\n",
    "#df.tmp_win_odds"
   ]
  },
  {
   "cell_type": "code",
   "execution_count": 203,
   "metadata": {},
   "outputs": [],
   "source": [
    "next_raceday = \"2020-06-10\"\n",
    "next_race_venue = \"HV\"\n",
    "race_no = 1"
   ]
  },
  {
   "cell_type": "code",
   "execution_count": 204,
   "metadata": {},
   "outputs": [
    {
     "data": {
      "text/plain": [
       "'https://bet.hkjc.com/racing/getJSON.aspx/?type=winplaodds&date=2020-06-09&venue=ST&start=1&end=9'"
      ]
     },
     "execution_count": 204,
     "metadata": {},
     "output_type": "execute_result"
    }
   ],
   "source": [
    "url"
   ]
  },
  {
   "cell_type": "code",
   "execution_count": 116,
   "metadata": {},
   "outputs": [],
   "source": [
    "url = \"https://bet.hkjc.com/racing/getJSON.aspx/?type=qin&date=2020-06-14&venue=ST&raceno=1\"\n",
    "\n",
    "session = HTMLSession()\n",
    "r = session.get(url)\n",
    "data = json.loads(r.html.html)\n"
   ]
  },
  {
   "cell_type": "code",
   "execution_count": 117,
   "metadata": {},
   "outputs": [
    {
     "data": {
      "text/plain": [
       "{'OUT': '121919@@@;1-2=14=0;1-3=4.4=0;1-4=1.7=1;1-5=6.8=0;2-3=45=0;2-4=42=0;2-5=47=0;3-4=18=0;3-5=24=0;4-5=24=0'}"
      ]
     },
     "execution_count": 117,
     "metadata": {},
     "output_type": "execute_result"
    }
   ],
   "source": [
    "data"
   ]
  },
  {
   "cell_type": "code",
   "execution_count": 118,
   "metadata": {},
   "outputs": [],
   "source": [
    "time, odds = data['OUT'].split('@@@')[0], data['OUT'].split('@@@')[1:]"
   ]
  },
  {
   "cell_type": "code",
   "execution_count": 119,
   "metadata": {},
   "outputs": [
    {
     "data": {
      "text/plain": [
       "'121919'"
      ]
     },
     "execution_count": 119,
     "metadata": {},
     "output_type": "execute_result"
    }
   ],
   "source": [
    "time"
   ]
  },
  {
   "cell_type": "code",
   "execution_count": 11,
   "metadata": {},
   "outputs": [
    {
     "data": {
      "text/plain": [
       "[';1-2=186=0;1-3=41=0;1-4=14=0;1-5=26=0;1-6=258=0;1-7=21=0;1-8=112=0;1-9=999=0;1-10=265=0;1-11=36=0;1-12=310=0;1-13=310=0;1-14=265=0;2-3=248=0;2-4=30=0;2-5=57=0;2-6=238=0;2-7=84=0;2-8=47=0;2-9=744=0;2-10=620=0;2-11=24=0;2-12=117=0;2-13=87=0;2-14=744=0;3-4=286=0;3-5=234=0;3-6=744=0;3-7=190=0;3-8=531=0;3-9=999=0;3-10=999=0;3-11=173=0;3-12=465=0;3-13=195=0;3-14=744=0;4-5=87=0;4-6=83=0;4-7=23=0;4-8=3.6=1;4-9=354=0;4-10=229=0;4-11=11=0;4-12=63=0;4-13=157=0;4-14=212=0;5-6=103=0;5-7=59=0;5-8=68=0;5-9=744=0;5-10=157=0;5-11=34=0;5-12=465=0;5-13=103=0;5-14=206=0;6-7=100=0;6-8=153=0;6-9=999=0;6-10=999=0;6-11=300=0;6-12=930=0;6-13=310=0;6-14=372=0;7-8=39=0;7-9=177=0;7-10=108=0;7-11=19=0;7-12=232=0;7-13=89=0;7-14=124=0;8-9=744=0;8-10=206=0;8-11=74=0;8-12=338=0;8-13=132=0;8-14=310=0;9-10=999=0;9-11=275=0;9-12=999=0;9-13=999=0;9-14=999=0;10-11=448=0;10-12=999=0;10-13=999=0;10-14=483=0;11-12=94=0;11-13=69=0;11-14=400=0;12-13=105=0;12-14=148=0;13-14=744=0']"
      ]
     },
     "execution_count": 11,
     "metadata": {},
     "output_type": "execute_result"
    }
   ],
   "source": [
    "odds"
   ]
  },
  {
   "cell_type": "code",
   "execution_count": 23,
   "metadata": {},
   "outputs": [],
   "source": [
    "qin_odds_list = odds[0].split(';')[1:]"
   ]
  },
  {
   "cell_type": "code",
   "execution_count": 24,
   "metadata": {},
   "outputs": [
    {
     "data": {
      "text/plain": [
       "['1-2=186=0',\n",
       " '1-3=41=0',\n",
       " '1-4=14=0',\n",
       " '1-5=26=0',\n",
       " '1-6=258=0',\n",
       " '1-7=21=0',\n",
       " '1-8=112=0',\n",
       " '1-9=999=0',\n",
       " '1-10=265=0',\n",
       " '1-11=36=0',\n",
       " '1-12=310=0',\n",
       " '1-13=310=0',\n",
       " '1-14=265=0',\n",
       " '2-3=248=0',\n",
       " '2-4=30=0',\n",
       " '2-5=57=0',\n",
       " '2-6=238=0',\n",
       " '2-7=84=0',\n",
       " '2-8=47=0',\n",
       " '2-9=744=0',\n",
       " '2-10=620=0',\n",
       " '2-11=24=0',\n",
       " '2-12=117=0',\n",
       " '2-13=87=0',\n",
       " '2-14=744=0',\n",
       " '3-4=286=0',\n",
       " '3-5=234=0',\n",
       " '3-6=744=0',\n",
       " '3-7=190=0',\n",
       " '3-8=531=0',\n",
       " '3-9=999=0',\n",
       " '3-10=999=0',\n",
       " '3-11=173=0',\n",
       " '3-12=465=0',\n",
       " '3-13=195=0',\n",
       " '3-14=744=0',\n",
       " '4-5=87=0',\n",
       " '4-6=83=0',\n",
       " '4-7=23=0',\n",
       " '4-8=3.6=1',\n",
       " '4-9=354=0',\n",
       " '4-10=229=0',\n",
       " '4-11=11=0',\n",
       " '4-12=63=0',\n",
       " '4-13=157=0',\n",
       " '4-14=212=0',\n",
       " '5-6=103=0',\n",
       " '5-7=59=0',\n",
       " '5-8=68=0',\n",
       " '5-9=744=0',\n",
       " '5-10=157=0',\n",
       " '5-11=34=0',\n",
       " '5-12=465=0',\n",
       " '5-13=103=0',\n",
       " '5-14=206=0',\n",
       " '6-7=100=0',\n",
       " '6-8=153=0',\n",
       " '6-9=999=0',\n",
       " '6-10=999=0',\n",
       " '6-11=300=0',\n",
       " '6-12=930=0',\n",
       " '6-13=310=0',\n",
       " '6-14=372=0',\n",
       " '7-8=39=0',\n",
       " '7-9=177=0',\n",
       " '7-10=108=0',\n",
       " '7-11=19=0',\n",
       " '7-12=232=0',\n",
       " '7-13=89=0',\n",
       " '7-14=124=0',\n",
       " '8-9=744=0',\n",
       " '8-10=206=0',\n",
       " '8-11=74=0',\n",
       " '8-12=338=0',\n",
       " '8-13=132=0',\n",
       " '8-14=310=0',\n",
       " '9-10=999=0',\n",
       " '9-11=275=0',\n",
       " '9-12=999=0',\n",
       " '9-13=999=0',\n",
       " '9-14=999=0',\n",
       " '10-11=448=0',\n",
       " '10-12=999=0',\n",
       " '10-13=999=0',\n",
       " '10-14=483=0',\n",
       " '11-12=94=0',\n",
       " '11-13=69=0',\n",
       " '11-14=400=0',\n",
       " '12-13=105=0',\n",
       " '12-14=148=0',\n",
       " '13-14=744=0']"
      ]
     },
     "execution_count": 24,
     "metadata": {},
     "output_type": "execute_result"
    }
   ],
   "source": [
    "qin_odds_list"
   ]
  },
  {
   "cell_type": "code",
   "execution_count": 25,
   "metadata": {},
   "outputs": [],
   "source": [
    "wo = list(map(lambda x: x.split('=')[1], qin_odds_list))"
   ]
  },
  {
   "cell_type": "code",
   "execution_count": 34,
   "metadata": {},
   "outputs": [
    {
     "data": {
      "text/plain": [
       "91"
      ]
     },
     "execution_count": 34,
     "metadata": {},
     "output_type": "execute_result"
    }
   ],
   "source": [
    "len(wo)"
   ]
  },
  {
   "cell_type": "code",
   "execution_count": null,
   "metadata": {},
   "outputs": [],
   "source": []
  },
  {
   "cell_type": "code",
   "execution_count": null,
   "metadata": {},
   "outputs": [],
   "source": []
  },
  {
   "cell_type": "code",
   "execution_count": 30,
   "metadata": {},
   "outputs": [],
   "source": [
    "import operator as op\n",
    "from functools import reduce\n",
    "\n",
    "def ncr(n, r):\n",
    "    r = min(r, n-r)\n",
    "    numer = reduce(op.mul, range(n, n-r, -1), 1)\n",
    "    denom = reduce(op.mul, range(1, r+1), 1)\n",
    "    return numer // denom  # or / in Python 2"
   ]
  },
  {
   "cell_type": "code",
   "execution_count": 33,
   "metadata": {},
   "outputs": [
    {
     "name": "stdout",
     "output_type": "stream",
     "text": [
      "0\n",
      "1\n",
      "1\n",
      "1\n",
      "2\n",
      "1\n",
      "3\n",
      "3\n",
      "4\n",
      "6\n",
      "5\n",
      "10\n",
      "6\n",
      "15\n",
      "7\n",
      "21\n",
      "8\n",
      "28\n",
      "9\n",
      "36\n",
      "10\n",
      "45\n",
      "11\n",
      "55\n",
      "12\n",
      "66\n",
      "13\n",
      "78\n",
      "14\n",
      "91\n"
     ]
    }
   ],
   "source": [
    "for i in range(15):\n",
    "    print(i)\n",
    "    print(ncr(i,2))"
   ]
  },
  {
   "cell_type": "code",
   "execution_count": 38,
   "metadata": {},
   "outputs": [],
   "source": [
    "combs_dict = {91:14,78:13,66:12,55:11,45:10,36:9,28:8,21:7,15:6,10:5,6:4,3:3}"
   ]
  },
  {
   "cell_type": "code",
   "execution_count": 39,
   "metadata": {},
   "outputs": [
    {
     "data": {
      "text/plain": [
       "14"
      ]
     },
     "execution_count": 39,
     "metadata": {},
     "output_type": "execute_result"
    }
   ],
   "source": [
    "combs_dict[91]"
   ]
  },
  {
   "cell_type": "code",
   "execution_count": 1,
   "metadata": {},
   "outputs": [],
   "source": [
    "n_it = 14"
   ]
  },
  {
   "cell_type": "code",
   "execution_count": 6,
   "metadata": {},
   "outputs": [],
   "source": [
    "wp_list = [x for x in range(14)]"
   ]
  },
  {
   "cell_type": "code",
   "execution_count": 7,
   "metadata": {},
   "outputs": [
    {
     "data": {
      "text/plain": [
       "[0, 1, 2, 3, 4, 5, 6, 7, 8, 9, 10, 11, 12, 13]"
      ]
     },
     "execution_count": 7,
     "metadata": {},
     "output_type": "execute_result"
    }
   ],
   "source": [
    "wp_list"
   ]
  },
  {
   "cell_type": "code",
   "execution_count": 9,
   "metadata": {},
   "outputs": [
    {
     "name": "stdout",
     "output_type": "stream",
     "text": [
      "1,2\n",
      "1,3\n",
      "1,4\n",
      "1,5\n",
      "1,6\n",
      "1,7\n",
      "1,8\n",
      "1,9\n",
      "1,10\n",
      "1,11\n",
      "1,12\n",
      "1,13\n",
      "1,14\n",
      "2,3\n",
      "2,4\n",
      "2,5\n",
      "2,6\n",
      "2,7\n",
      "2,8\n",
      "2,9\n",
      "2,10\n",
      "2,11\n",
      "2,12\n",
      "2,13\n",
      "2,14\n",
      "3,4\n",
      "3,5\n",
      "3,6\n",
      "3,7\n",
      "3,8\n",
      "3,9\n",
      "3,10\n",
      "3,11\n",
      "3,12\n",
      "3,13\n",
      "3,14\n",
      "4,5\n",
      "4,6\n",
      "4,7\n",
      "4,8\n",
      "4,9\n",
      "4,10\n",
      "4,11\n",
      "4,12\n",
      "4,13\n",
      "4,14\n",
      "5,6\n",
      "5,7\n",
      "5,8\n",
      "5,9\n",
      "5,10\n",
      "5,11\n",
      "5,12\n",
      "5,13\n",
      "5,14\n",
      "6,7\n",
      "6,8\n",
      "6,9\n",
      "6,10\n",
      "6,11\n",
      "6,12\n",
      "6,13\n",
      "6,14\n",
      "7,8\n",
      "7,9\n",
      "7,10\n",
      "7,11\n",
      "7,12\n",
      "7,13\n",
      "7,14\n",
      "8,9\n",
      "8,10\n",
      "8,11\n",
      "8,12\n",
      "8,13\n",
      "8,14\n",
      "9,10\n",
      "9,11\n",
      "9,12\n",
      "9,13\n",
      "9,14\n",
      "10,11\n",
      "10,12\n",
      "10,13\n",
      "10,14\n",
      "11,12\n",
      "11,13\n",
      "11,14\n",
      "12,13\n",
      "12,14\n",
      "13,14\n"
     ]
    }
   ],
   "source": [
    "for i in range(n_it):\n",
    "    for j in range(n_it)[i+1:]:\n",
    "        print(str(i+1)+','+str(j+1))"
   ]
  },
  {
   "cell_type": "code",
   "execution_count": null,
   "metadata": {},
   "outputs": [],
   "source": []
  }
 ],
 "metadata": {
  "kernelspec": {
   "display_name": "Python 3",
   "language": "python",
   "name": "python3"
  },
  "language_info": {
   "codemirror_mode": {
    "name": "ipython",
    "version": 3
   },
   "file_extension": ".py",
   "mimetype": "text/x-python",
   "name": "python",
   "nbconvert_exporter": "python",
   "pygments_lexer": "ipython3",
   "version": "3.7.6"
  }
 },
 "nbformat": 4,
 "nbformat_minor": 4
}
