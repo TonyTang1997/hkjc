{
 "cells": [
  {
   "cell_type": "code",
   "execution_count": 84,
   "metadata": {},
   "outputs": [],
   "source": [
    "import urllib.request, json \n",
    "import random\n",
    "#import pymongo\n",
    "import pandas as pd\n",
    "#from pymongo import MongoClient\n",
    "import pandas as pd\n",
    "from datetime import datetime\n",
    "\n",
    "from requests_html import HTMLSession, AsyncHTMLSession"
   ]
  },
  {
   "cell_type": "code",
   "execution_count": 85,
   "metadata": {},
   "outputs": [],
   "source": [
    "today = (datetime.now()).strftime('%Y-%m-%d')"
   ]
  },
  {
   "cell_type": "code",
   "execution_count": 86,
   "metadata": {},
   "outputs": [],
   "source": [
    "filter_cols = ['race_date', 'race_no', 'race_time','horse_no', 'horse_name', 'real_horse_id','type']"
   ]
  },
  {
   "cell_type": "code",
   "execution_count": 113,
   "metadata": {},
   "outputs": [],
   "source": [
    "race_date = today\n",
    "srace_no = 1\n",
    "erace_no = 9\n",
    "url = \"https://bet.hkjc.com/racing/getJSON.aspx/?type=winplaodds&date={}&venue=ST&start={}&end={}\".format(race_date,srace_no,erace_no)\n",
    "\n",
    "session = HTMLSession()\n",
    "r = session.get(url)\n",
    "data = json.loads(r.html.html)\n",
    "\n",
    "time, odds = data['OUT'].split('@@@')[0], data['OUT'].split('@@@')[1:]"
   ]
  },
  {
   "cell_type": "code",
   "execution_count": 114,
   "metadata": {},
   "outputs": [
    {
     "data": {
      "text/plain": [
       "'172028'"
      ]
     },
     "execution_count": 114,
     "metadata": {},
     "output_type": "execute_result"
    }
   ],
   "source": [
    "time"
   ]
  },
  {
   "cell_type": "code",
   "execution_count": 115,
   "metadata": {},
   "outputs": [
    {
     "data": {
      "text/plain": [
       "'WIN;1=5.2=0;2=4.7=1;3=24=0;4=7.1=0;5=50=0;6=10=0;7=13=0;8=6.4=2;9=57=0;10=13=2;11=6.2=0;12=29=0#PLA;1=1.9=0;2=1.6=1;3=5.6=0;4=2.1=0;5=14=0;6=3.5=0;7=4.7=0;8=2.2=2;9=12=0;10=6.8=0;11=2.1=0;12=7.6=0'"
      ]
     },
     "execution_count": 115,
     "metadata": {},
     "output_type": "execute_result"
    }
   ],
   "source": [
    "odds[1]"
   ]
  },
  {
   "cell_type": "code",
   "execution_count": null,
   "metadata": {},
   "outputs": [],
   "source": []
  },
  {
   "cell_type": "code",
   "execution_count": null,
   "metadata": {},
   "outputs": [],
   "source": []
  },
  {
   "cell_type": "code",
   "execution_count": 116,
   "metadata": {},
   "outputs": [],
   "source": [
    "race_date = today\n",
    "race_no = 9\n",
    "\n",
    "url = \"http://bet.hkjc.com/racing/getJSON.aspx/?type=win&date={}&venue=ST&raceno={}\".format(race_date,race_no)\n",
    "\n",
    "session = HTMLSession()\n",
    "r = session.get(url)\n",
    "data = json.loads(r.html.html)\n"
   ]
  },
  {
   "cell_type": "code",
   "execution_count": 117,
   "metadata": {},
   "outputs": [
    {
     "data": {
      "text/plain": [
       "{'OUT': '172028@@@;1=63=0;2=12=0;3=15=0;4=8.9=0;5=5.7=0;6=8.3=2;7=13=2;8=125=0;9=3.5=1;10=62=0;11=SCR=0;12=51=0;13=89=0;14=4.2=0'}"
      ]
     },
     "execution_count": 117,
     "metadata": {},
     "output_type": "execute_result"
    }
   ],
   "source": [
    "data"
   ]
  },
  {
   "cell_type": "code",
   "execution_count": null,
   "metadata": {},
   "outputs": [],
   "source": []
  },
  {
   "cell_type": "code",
   "execution_count": null,
   "metadata": {},
   "outputs": [],
   "source": []
  },
  {
   "cell_type": "code",
   "execution_count": null,
   "metadata": {},
   "outputs": [],
   "source": []
  },
  {
   "cell_type": "code",
   "execution_count": 118,
   "metadata": {},
   "outputs": [
    {
     "name": "stdout",
     "output_type": "stream",
     "text": [
      "0\n",
      "1\n",
      "2\n",
      "3\n",
      "4\n",
      "5\n",
      "6\n",
      "7\n",
      "8\n"
     ]
    }
   ],
   "source": [
    "race_date = today\n",
    "srace_no = 1\n",
    "erace_no = 9\n",
    "url = \"https://bet.hkjc.com/racing/getJSON.aspx/?type=winplaodds&date={}&venue=ST&start={}&end={}\".format(race_date,srace_no,erace_no)\n",
    "\n",
    "session = HTMLSession()\n",
    "r = session.get(url)\n",
    "data = json.loads(r.html.html)\n",
    "\n",
    "time, odds = data['OUT'].split('@@@')[0], data['OUT'].split('@@@')[1:]\n",
    "\n",
    "#TODO handle hourse withdrawal\n",
    "\n",
    "for i, odd in enumerate(odds):\n",
    "    wo, po = odd.split('WIN;')[1].split('#PLA;')\n",
    "    wo = list(map(lambda x: x.split('=')[1], wo.split(';')))\n",
    "    po = list(map(lambda x: x.split('=')[1], po.split(';')))\n",
    "    #cond = (df['race_no'] == i+1) & (df['type'] == 'starter')\n",
    "    #df.loc[cond, 'tmp_win_odds'] = wo\n",
    "    #df.loc[cond, 'tmp_place_odds'] = po\n",
    "    #df.loc[cond, 'odds_updated_at'] = datetime.now()\n",
    "    #df.loc[cond, 'odds_srv_updated_at'] = time #TODO change to dt or timestamp\n",
    "    #logging.info('race no: {} / win_odds: {}'.format(i+1, wo))\n",
    "\n",
    "# logging.info('race no: {} / win_odds: {}'.format(race_no, wo))\n",
    "\n",
    "# df_tmp['tmp_win_odds'] = wo\n",
    "# df_tmp['tmp_place_odds'] = po\n",
    "# df_tmp['current_time'] = datetime.now()\n",
    "#df.tmp_win_odds"
   ]
  },
  {
   "cell_type": "code",
   "execution_count": 121,
   "metadata": {},
   "outputs": [],
   "source": [
    "next_raceday = \"2020-06-10\"\n",
    "next_race_venue = \"HV\"\n",
    "race_no = 1"
   ]
  },
  {
   "cell_type": "code",
   "execution_count": 133,
   "metadata": {},
   "outputs": [
    {
     "data": {
      "text/plain": [
       "'http://bet.hkjc.com/racing/getJSON.aspx/?type=pooltot&date=2020-06-10&venue=HV&raceno=1'"
      ]
     },
     "execution_count": 133,
     "metadata": {},
     "output_type": "execute_result"
    }
   ],
   "source": [
    "url"
   ]
  },
  {
   "cell_type": "code",
   "execution_count": 140,
   "metadata": {},
   "outputs": [],
   "source": [
    "url = \"http://bet.hkjc.com/racing/getJSON.aspx/?type=pooltot&date={}&venue={}&raceno={}\".format(next_raceday,next_race_venue,race_no)\n",
    "\n",
    "session = HTMLSession()\n",
    "r = session.get(url)\n",
    "data = json.loads(r.html.html)\n"
   ]
  },
  {
   "cell_type": "code",
   "execution_count": 141,
   "metadata": {},
   "outputs": [
    {
     "data": {
      "text/plain": [
       "{'inv': [{'pool': 'WIN', 'value': '239258'},\n",
       "  {'pool': 'PLA', 'value': '136862'},\n",
       "  {'pool': 'QIN', 'value': '188262'},\n",
       "  {'pool': 'QPL', 'value': '279758'},\n",
       "  {'pool': 'TCE', 'value': '15372'},\n",
       "  {'pool': 'TRI', 'value': '24563'},\n",
       "  {'pool': 'F-F', 'value': '32891', 'pid': '62113'},\n",
       "  {'pool': 'QTT', 'value': '32891', 'pid': '62113'},\n",
       "  {'pool': 'DBL', 'value': '30400'}],\n",
       " 'totalInv': '4005121',\n",
       " 'updateTime': '170818'}"
      ]
     },
     "execution_count": 141,
     "metadata": {},
     "output_type": "execute_result"
    }
   ],
   "source": [
    "data"
   ]
  },
  {
   "cell_type": "code",
   "execution_count": 142,
   "metadata": {},
   "outputs": [
    {
     "data": {
      "text/plain": [
       "[{'pool': 'WIN', 'value': '239258'},\n",
       " {'pool': 'PLA', 'value': '136862'},\n",
       " {'pool': 'QIN', 'value': '188262'},\n",
       " {'pool': 'QPL', 'value': '279758'},\n",
       " {'pool': 'TCE', 'value': '15372'},\n",
       " {'pool': 'TRI', 'value': '24563'},\n",
       " {'pool': 'F-F', 'value': '32891', 'pid': '62113'},\n",
       " {'pool': 'QTT', 'value': '32891', 'pid': '62113'},\n",
       " {'pool': 'DBL', 'value': '30400'}]"
      ]
     },
     "execution_count": 142,
     "metadata": {},
     "output_type": "execute_result"
    }
   ],
   "source": [
    "data['inv']"
   ]
  },
  {
   "cell_type": "code",
   "execution_count": 143,
   "metadata": {},
   "outputs": [
    {
     "data": {
      "text/plain": [
       "['239258',\n",
       " '136862',\n",
       " '188262',\n",
       " '279758',\n",
       " '15372',\n",
       " '24563',\n",
       " '32891',\n",
       " '32891',\n",
       " '30400']"
      ]
     },
     "execution_count": 143,
     "metadata": {},
     "output_type": "execute_result"
    }
   ],
   "source": [
    "[x['value'] for x in data['inv']]"
   ]
  },
  {
   "cell_type": "code",
   "execution_count": null,
   "metadata": {},
   "outputs": [],
   "source": []
  },
  {
   "cell_type": "code",
   "execution_count": null,
   "metadata": {},
   "outputs": [],
   "source": []
  },
  {
   "cell_type": "code",
   "execution_count": null,
   "metadata": {},
   "outputs": [],
   "source": []
  },
  {
   "cell_type": "code",
   "execution_count": null,
   "metadata": {},
   "outputs": [],
   "source": []
  }
 ],
 "metadata": {
  "kernelspec": {
   "display_name": "Python 3",
   "language": "python",
   "name": "python3"
  },
  "language_info": {
   "codemirror_mode": {
    "name": "ipython",
    "version": 3
   },
   "file_extension": ".py",
   "mimetype": "text/x-python",
   "name": "python",
   "nbconvert_exporter": "python",
   "pygments_lexer": "ipython3",
   "version": "3.7.6"
  }
 },
 "nbformat": 4,
 "nbformat_minor": 4
}
