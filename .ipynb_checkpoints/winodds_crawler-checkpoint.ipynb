{
 "cells": [
  {
   "cell_type": "code",
   "execution_count": 2,
   "metadata": {},
   "outputs": [],
   "source": [
    "import urllib.request, json \n",
    "import random\n",
    "#import pymongo\n",
    "import pandas as pd\n",
    "#from pymongo import MongoClient\n",
    "import pandas as pd\n",
    "from datetime import datetime\n",
    "\n",
    "from requests_html import HTMLSession, AsyncHTMLSession"
   ]
  },
  {
   "cell_type": "code",
   "execution_count": 177,
   "metadata": {},
   "outputs": [],
   "source": [
    "today = (datetime.now()).strftime('%Y-%m-%d')"
   ]
  },
  {
   "cell_type": "code",
   "execution_count": 178,
   "metadata": {},
   "outputs": [],
   "source": [
    "filter_cols = ['race_date', 'race_no', 'race_time','horse_no', 'horse_name', 'real_horse_id','type']"
   ]
  },
  {
   "cell_type": "code",
   "execution_count": 179,
   "metadata": {},
   "outputs": [],
   "source": [
    "race_date = today\n",
    "srace_no = 1\n",
    "erace_no = 9\n",
    "url = \"https://bet.hkjc.com/racing/getJSON.aspx/?type=winplaodds&date={}&venue=HV&start={}&end={}\".format(\"2020-06-10\",srace_no,erace_no)\n",
    "\n",
    "session = HTMLSession()\n",
    "r = session.get(url)\n",
    "data = json.loads(r.html.html)\n",
    "\n",
    "time, odds = data['OUT'].split('@@@')[0], data['OUT'].split('@@@')[1:]"
   ]
  },
  {
   "cell_type": "code",
   "execution_count": 180,
   "metadata": {},
   "outputs": [
    {
     "data": {
      "text/plain": [
       "'211902'"
      ]
     },
     "execution_count": 180,
     "metadata": {},
     "output_type": "execute_result"
    }
   ],
   "source": [
    "time"
   ]
  },
  {
   "cell_type": "code",
   "execution_count": 181,
   "metadata": {},
   "outputs": [
    {
     "data": {
      "text/plain": [
       "'WIN;1=18=0;2=9.8=0;3=4.4=1;4=15=0;5=12=0;6=6.8=0;7=10=0;8=19=0;9=23=0;10=6.0=0;11=7.6=0;12=20=0#PLA;1=6.0=0;2=2.7=0;3=2.0=0;4=6.0=0;5=5.8=0;6=3.0=0;7=3.7=0;8=4.4=0;9=4.2=0;10=1.7=1;11=2.3=0;12=5.5=0'"
      ]
     },
     "execution_count": 181,
     "metadata": {},
     "output_type": "execute_result"
    }
   ],
   "source": [
    "odds[1]"
   ]
  },
  {
   "cell_type": "code",
   "execution_count": null,
   "metadata": {},
   "outputs": [],
   "source": []
  },
  {
   "cell_type": "code",
   "execution_count": null,
   "metadata": {},
   "outputs": [],
   "source": []
  },
  {
   "cell_type": "code",
   "execution_count": 201,
   "metadata": {},
   "outputs": [
    {
     "name": "stdout",
     "output_type": "stream",
     "text": [
      "212403\n"
     ]
    }
   ],
   "source": [
    "race_date = today\n",
    "srace_no = 1\n",
    "erace_no = 9\n",
    "url = \"https://bet.hkjc.com/racing/getJSON.aspx/?type=winplaodds&date={}&venue=HV&start={}&end={}\".format(\"2020-06-10\",srace_no,erace_no)\n",
    "\n",
    "session = HTMLSession()\n",
    "r = session.get(url)\n",
    "data = json.loads(r.html.html)\n",
    "\n",
    "time, odds = data['OUT'].split('@@@')[0], data['OUT'].split('@@@')[1:]\n",
    "\n",
    "print(time)"
   ]
  },
  {
   "cell_type": "code",
   "execution_count": null,
   "metadata": {},
   "outputs": [],
   "source": []
  },
  {
   "cell_type": "code",
   "execution_count": null,
   "metadata": {},
   "outputs": [],
   "source": []
  },
  {
   "cell_type": "code",
   "execution_count": 167,
   "metadata": {},
   "outputs": [],
   "source": [
    "race_date = today\n",
    "race_no = 9\n",
    "\n",
    "url = \"http://bet.hkjc.com/racing/getJSON.aspx/?type=win&date={}&venue=ST&raceno={}\".format(race_date,race_no)\n",
    "\n",
    "session = HTMLSession()\n",
    "r = session.get(url)\n",
    "data = json.loads(r.html.html)\n"
   ]
  },
  {
   "cell_type": "code",
   "execution_count": 168,
   "metadata": {},
   "outputs": [
    {
     "data": {
      "text/plain": [
       "{'OUT': ''}"
      ]
     },
     "execution_count": 168,
     "metadata": {},
     "output_type": "execute_result"
    }
   ],
   "source": [
    "data"
   ]
  },
  {
   "cell_type": "code",
   "execution_count": null,
   "metadata": {},
   "outputs": [],
   "source": []
  },
  {
   "cell_type": "code",
   "execution_count": null,
   "metadata": {},
   "outputs": [],
   "source": []
  },
  {
   "cell_type": "code",
   "execution_count": null,
   "metadata": {},
   "outputs": [],
   "source": []
  },
  {
   "cell_type": "code",
   "execution_count": 202,
   "metadata": {},
   "outputs": [],
   "source": [
    "race_date = today\n",
    "srace_no = 1\n",
    "erace_no = 9\n",
    "url = \"https://bet.hkjc.com/racing/getJSON.aspx/?type=winplaodds&date={}&venue=ST&start={}&end={}\".format(race_date,srace_no,erace_no)\n",
    "\n",
    "session = HTMLSession()\n",
    "r = session.get(url)\n",
    "data = json.loads(r.html.html)\n",
    "\n",
    "time, odds = data['OUT'].split('@@@')[0], data['OUT'].split('@@@')[1:]\n",
    "\n",
    "#TODO handle hourse withdrawal\n",
    "\n",
    "for i, odd in enumerate(odds):\n",
    "    wo, po = odd.split('WIN;')[1].split('#PLA;')\n",
    "    wo = list(map(lambda x: x.split('=')[1], wo.split(';')))\n",
    "    po = list(map(lambda x: x.split('=')[1], po.split(';')))\n",
    "    #cond = (df['race_no'] == i+1) & (df['type'] == 'starter')\n",
    "    #df.loc[cond, 'tmp_win_odds'] = wo\n",
    "    #df.loc[cond, 'tmp_place_odds'] = po\n",
    "    #df.loc[cond, 'odds_updated_at'] = datetime.now()\n",
    "    #df.loc[cond, 'odds_srv_updated_at'] = time #TODO change to dt or timestamp\n",
    "    #logging.info('race no: {} / win_odds: {}'.format(i+1, wo))\n",
    "\n",
    "# logging.info('race no: {} / win_odds: {}'.format(race_no, wo))\n",
    "\n",
    "# df_tmp['tmp_win_odds'] = wo\n",
    "# df_tmp['tmp_place_odds'] = po\n",
    "# df_tmp['current_time'] = datetime.now()\n",
    "#df.tmp_win_odds"
   ]
  },
  {
   "cell_type": "code",
   "execution_count": 203,
   "metadata": {},
   "outputs": [],
   "source": [
    "next_raceday = \"2020-06-10\"\n",
    "next_race_venue = \"HV\"\n",
    "race_no = 1"
   ]
  },
  {
   "cell_type": "code",
   "execution_count": 204,
   "metadata": {},
   "outputs": [
    {
     "data": {
      "text/plain": [
       "'https://bet.hkjc.com/racing/getJSON.aspx/?type=winplaodds&date=2020-06-09&venue=ST&start=1&end=9'"
      ]
     },
     "execution_count": 204,
     "metadata": {},
     "output_type": "execute_result"
    }
   ],
   "source": [
    "url"
   ]
  },
  {
   "cell_type": "code",
   "execution_count": 6,
   "metadata": {},
   "outputs": [],
   "source": [
    "url = \"https://bet.hkjc.com/racing/getJSON.aspx/?type=qin&date=2020-06-14&venue=ST&raceno=2\"\n",
    "\n",
    "session = HTMLSession()\n",
    "r = session.get(url)\n",
    "data = json.loads(r.html.html)\n"
   ]
  },
  {
   "cell_type": "code",
   "execution_count": 7,
   "metadata": {},
   "outputs": [
    {
     "data": {
      "text/plain": [
       "{'OUT': '130757@@@;1-2=186=0;1-3=41=0;1-4=14=0;1-5=26=0;1-6=258=0;1-7=21=0;1-8=112=0;1-9=999=0;1-10=265=0;1-11=36=0;1-12=310=0;1-13=310=0;1-14=265=0;2-3=248=0;2-4=30=0;2-5=57=0;2-6=238=0;2-7=84=0;2-8=47=0;2-9=744=0;2-10=620=0;2-11=24=0;2-12=117=0;2-13=87=0;2-14=744=0;3-4=286=0;3-5=234=0;3-6=744=0;3-7=190=0;3-8=531=0;3-9=999=0;3-10=999=0;3-11=173=0;3-12=465=0;3-13=195=0;3-14=744=0;4-5=87=0;4-6=83=0;4-7=23=0;4-8=3.6=1;4-9=354=0;4-10=229=0;4-11=11=0;4-12=63=0;4-13=157=0;4-14=212=0;5-6=103=0;5-7=59=0;5-8=68=0;5-9=744=0;5-10=157=0;5-11=34=0;5-12=465=0;5-13=103=0;5-14=206=0;6-7=100=0;6-8=153=0;6-9=999=0;6-10=999=0;6-11=300=0;6-12=930=0;6-13=310=0;6-14=372=0;7-8=39=0;7-9=177=0;7-10=108=0;7-11=19=0;7-12=232=0;7-13=89=0;7-14=124=0;8-9=744=0;8-10=206=0;8-11=74=0;8-12=338=0;8-13=132=0;8-14=310=0;9-10=999=0;9-11=275=0;9-12=999=0;9-13=999=0;9-14=999=0;10-11=448=0;10-12=999=0;10-13=999=0;10-14=483=0;11-12=94=0;11-13=69=0;11-14=400=0;12-13=105=0;12-14=148=0;13-14=744=0'}"
      ]
     },
     "execution_count": 7,
     "metadata": {},
     "output_type": "execute_result"
    }
   ],
   "source": [
    "data"
   ]
  },
  {
   "cell_type": "code",
   "execution_count": 9,
   "metadata": {},
   "outputs": [],
   "source": [
    "time, odds = data['OUT'].split('@@@')[0], data['OUT'].split('@@@')[1:]"
   ]
  },
  {
   "cell_type": "code",
   "execution_count": 10,
   "metadata": {},
   "outputs": [
    {
     "data": {
      "text/plain": [
       "'130757'"
      ]
     },
     "execution_count": 10,
     "metadata": {},
     "output_type": "execute_result"
    }
   ],
   "source": [
    "time"
   ]
  },
  {
   "cell_type": "code",
   "execution_count": 11,
   "metadata": {},
   "outputs": [
    {
     "data": {
      "text/plain": [
       "[';1-2=186=0;1-3=41=0;1-4=14=0;1-5=26=0;1-6=258=0;1-7=21=0;1-8=112=0;1-9=999=0;1-10=265=0;1-11=36=0;1-12=310=0;1-13=310=0;1-14=265=0;2-3=248=0;2-4=30=0;2-5=57=0;2-6=238=0;2-7=84=0;2-8=47=0;2-9=744=0;2-10=620=0;2-11=24=0;2-12=117=0;2-13=87=0;2-14=744=0;3-4=286=0;3-5=234=0;3-6=744=0;3-7=190=0;3-8=531=0;3-9=999=0;3-10=999=0;3-11=173=0;3-12=465=0;3-13=195=0;3-14=744=0;4-5=87=0;4-6=83=0;4-7=23=0;4-8=3.6=1;4-9=354=0;4-10=229=0;4-11=11=0;4-12=63=0;4-13=157=0;4-14=212=0;5-6=103=0;5-7=59=0;5-8=68=0;5-9=744=0;5-10=157=0;5-11=34=0;5-12=465=0;5-13=103=0;5-14=206=0;6-7=100=0;6-8=153=0;6-9=999=0;6-10=999=0;6-11=300=0;6-12=930=0;6-13=310=0;6-14=372=0;7-8=39=0;7-9=177=0;7-10=108=0;7-11=19=0;7-12=232=0;7-13=89=0;7-14=124=0;8-9=744=0;8-10=206=0;8-11=74=0;8-12=338=0;8-13=132=0;8-14=310=0;9-10=999=0;9-11=275=0;9-12=999=0;9-13=999=0;9-14=999=0;10-11=448=0;10-12=999=0;10-13=999=0;10-14=483=0;11-12=94=0;11-13=69=0;11-14=400=0;12-13=105=0;12-14=148=0;13-14=744=0']"
      ]
     },
     "execution_count": 11,
     "metadata": {},
     "output_type": "execute_result"
    }
   ],
   "source": [
    "odds"
   ]
  },
  {
   "cell_type": "code",
   "execution_count": 23,
   "metadata": {},
   "outputs": [],
   "source": [
    "qin_odds_list = odds[0].split(';')[1:]"
   ]
  },
  {
   "cell_type": "code",
   "execution_count": 24,
   "metadata": {},
   "outputs": [
    {
     "data": {
      "text/plain": [
       "['1-2=186=0',\n",
       " '1-3=41=0',\n",
       " '1-4=14=0',\n",
       " '1-5=26=0',\n",
       " '1-6=258=0',\n",
       " '1-7=21=0',\n",
       " '1-8=112=0',\n",
       " '1-9=999=0',\n",
       " '1-10=265=0',\n",
       " '1-11=36=0',\n",
       " '1-12=310=0',\n",
       " '1-13=310=0',\n",
       " '1-14=265=0',\n",
       " '2-3=248=0',\n",
       " '2-4=30=0',\n",
       " '2-5=57=0',\n",
       " '2-6=238=0',\n",
       " '2-7=84=0',\n",
       " '2-8=47=0',\n",
       " '2-9=744=0',\n",
       " '2-10=620=0',\n",
       " '2-11=24=0',\n",
       " '2-12=117=0',\n",
       " '2-13=87=0',\n",
       " '2-14=744=0',\n",
       " '3-4=286=0',\n",
       " '3-5=234=0',\n",
       " '3-6=744=0',\n",
       " '3-7=190=0',\n",
       " '3-8=531=0',\n",
       " '3-9=999=0',\n",
       " '3-10=999=0',\n",
       " '3-11=173=0',\n",
       " '3-12=465=0',\n",
       " '3-13=195=0',\n",
       " '3-14=744=0',\n",
       " '4-5=87=0',\n",
       " '4-6=83=0',\n",
       " '4-7=23=0',\n",
       " '4-8=3.6=1',\n",
       " '4-9=354=0',\n",
       " '4-10=229=0',\n",
       " '4-11=11=0',\n",
       " '4-12=63=0',\n",
       " '4-13=157=0',\n",
       " '4-14=212=0',\n",
       " '5-6=103=0',\n",
       " '5-7=59=0',\n",
       " '5-8=68=0',\n",
       " '5-9=744=0',\n",
       " '5-10=157=0',\n",
       " '5-11=34=0',\n",
       " '5-12=465=0',\n",
       " '5-13=103=0',\n",
       " '5-14=206=0',\n",
       " '6-7=100=0',\n",
       " '6-8=153=0',\n",
       " '6-9=999=0',\n",
       " '6-10=999=0',\n",
       " '6-11=300=0',\n",
       " '6-12=930=0',\n",
       " '6-13=310=0',\n",
       " '6-14=372=0',\n",
       " '7-8=39=0',\n",
       " '7-9=177=0',\n",
       " '7-10=108=0',\n",
       " '7-11=19=0',\n",
       " '7-12=232=0',\n",
       " '7-13=89=0',\n",
       " '7-14=124=0',\n",
       " '8-9=744=0',\n",
       " '8-10=206=0',\n",
       " '8-11=74=0',\n",
       " '8-12=338=0',\n",
       " '8-13=132=0',\n",
       " '8-14=310=0',\n",
       " '9-10=999=0',\n",
       " '9-11=275=0',\n",
       " '9-12=999=0',\n",
       " '9-13=999=0',\n",
       " '9-14=999=0',\n",
       " '10-11=448=0',\n",
       " '10-12=999=0',\n",
       " '10-13=999=0',\n",
       " '10-14=483=0',\n",
       " '11-12=94=0',\n",
       " '11-13=69=0',\n",
       " '11-14=400=0',\n",
       " '12-13=105=0',\n",
       " '12-14=148=0',\n",
       " '13-14=744=0']"
      ]
     },
     "execution_count": 24,
     "metadata": {},
     "output_type": "execute_result"
    }
   ],
   "source": [
    "qin_odds_list"
   ]
  },
  {
   "cell_type": "code",
   "execution_count": 25,
   "metadata": {},
   "outputs": [],
   "source": [
    "wo = list(map(lambda x: x.split('=')[1], qin_odds_list))"
   ]
  },
  {
   "cell_type": "code",
   "execution_count": 34,
   "metadata": {},
   "outputs": [
    {
     "data": {
      "text/plain": [
       "91"
      ]
     },
     "execution_count": 34,
     "metadata": {},
     "output_type": "execute_result"
    }
   ],
   "source": [
    "len(wo)"
   ]
  },
  {
   "cell_type": "code",
   "execution_count": null,
   "metadata": {},
   "outputs": [],
   "source": []
  },
  {
   "cell_type": "code",
   "execution_count": null,
   "metadata": {},
   "outputs": [],
   "source": []
  },
  {
   "cell_type": "code",
   "execution_count": 30,
   "metadata": {},
   "outputs": [],
   "source": [
    "import operator as op\n",
    "from functools import reduce\n",
    "\n",
    "def ncr(n, r):\n",
    "    r = min(r, n-r)\n",
    "    numer = reduce(op.mul, range(n, n-r, -1), 1)\n",
    "    denom = reduce(op.mul, range(1, r+1), 1)\n",
    "    return numer // denom  # or / in Python 2"
   ]
  },
  {
   "cell_type": "code",
   "execution_count": 33,
   "metadata": {},
   "outputs": [
    {
     "name": "stdout",
     "output_type": "stream",
     "text": [
      "0\n",
      "1\n",
      "1\n",
      "1\n",
      "2\n",
      "1\n",
      "3\n",
      "3\n",
      "4\n",
      "6\n",
      "5\n",
      "10\n",
      "6\n",
      "15\n",
      "7\n",
      "21\n",
      "8\n",
      "28\n",
      "9\n",
      "36\n",
      "10\n",
      "45\n",
      "11\n",
      "55\n",
      "12\n",
      "66\n",
      "13\n",
      "78\n",
      "14\n",
      "91\n"
     ]
    }
   ],
   "source": [
    "for i in range(15):\n",
    "    print(i)\n",
    "    print(ncr(i,2))"
   ]
  },
  {
   "cell_type": "code",
   "execution_count": 36,
   "metadata": {},
   "outputs": [],
   "source": [
    "combs_dict = {91:14,78:13,66:12,55:11,45:10,36:9,28:8,21:7,15:6,10:5,6:4,3:3}"
   ]
  },
  {
   "cell_type": "code",
   "execution_count": 37,
   "metadata": {},
   "outputs": [
    {
     "data": {
      "text/plain": [
       "14"
      ]
     },
     "execution_count": 37,
     "metadata": {},
     "output_type": "execute_result"
    }
   ],
   "source": [
    "combs_dict[91]"
   ]
  },
  {
   "cell_type": "code",
   "execution_count": null,
   "metadata": {},
   "outputs": [],
   "source": []
  },
  {
   "cell_type": "code",
   "execution_count": null,
   "metadata": {},
   "outputs": [],
   "source": []
  }
 ],
 "metadata": {
  "kernelspec": {
   "display_name": "Python 3",
   "language": "python",
   "name": "python3"
  },
  "language_info": {
   "codemirror_mode": {
    "name": "ipython",
    "version": 3
   },
   "file_extension": ".py",
   "mimetype": "text/x-python",
   "name": "python",
   "nbconvert_exporter": "python",
   "pygments_lexer": "ipython3",
   "version": "3.7.6"
  }
 },
 "nbformat": 4,
 "nbformat_minor": 4
}
